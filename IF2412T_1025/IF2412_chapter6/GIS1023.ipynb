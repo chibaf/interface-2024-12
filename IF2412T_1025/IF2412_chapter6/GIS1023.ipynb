{
  "cells": [
    {
      "cell_type": "markdown",
      "id": "4c3beca9",
      "metadata": {
        "id": "4c3beca9"
      },
      "source": [
        "# 第6章　座標変換／空間解析／３次元データ処理：地理空間情報システム（GIS）\n",
        "\n",
        "本Notebookは，Interface誌特集記事第6章を読んでいただく際に，読者の手元のPython環境で試して体験していただくために公開・配布しています．詳細については，記事本文を参照ください．\n",
        "\n",
        "## 6-1 基礎知識\n",
        "\n",
        "### 実行環境の準備\n",
        "\n",
        "jupyterlabのインストールを行います．\n",
        "```\n",
        "pip install jupyterlab\n",
        "```\n",
        "同様に数値計算およびプロット，GIS関連の描画，測位計算に利用するパッケージをインストールします．\n",
        "```\n",
        "pip install numpy, matplotlib, folium, cartopy, cssrlib\n",
        "```\n",
        "その後，以下のようにJupyerLabを起動します．\n",
        "```\n",
        "jupyter lab\n",
        "```\n",
        "Webブラウザが自動的に起動し，Jupyter notebookがオープンされます．"
      ]
    },
    {
      "cell_type": "markdown",
      "id": "hcFGFs1sgaFP",
      "metadata": {
        "id": "hcFGFs1sgaFP"
      },
      "source": [
        "## 6-2 異なる座標系間の座標値を変換するヘルマート変換\n",
        "\n",
        "リスト1(a)"
      ]
    },
    {
      "cell_type": "code",
      "execution_count": null,
      "id": "28bd9fae",
      "metadata": {
        "id": "28bd9fae"
      },
      "outputs": [],
      "source": [
        "import numpy as np\n",
        "from cssrlib.gnss import pos2ecef, ecef2pos\n",
        "\n",
        "\n",
        "def conv_cord(ph, lat, lon, alt, t=0, dph=None, tref=2015.0):\n",
        "    c = np.array(ph[0:3]*1e-3)\n",
        "    d = ph[3]*1e-9\n",
        "    r = np.array(np.deg2rad(ph[4:7]*1e-3/3600))\n",
        "\n",
        "    if dph is not None:\n",
        "        dt = t-tref\n",
        "        c += dph[0:3]*1e-3*dt\n",
        "        d += dph[3]*1e-9*dt\n",
        "        r += np.array(np.deg2rad(dph[4:7]*dt*1e-3/3600))\n",
        "\n",
        "    x = pos2ecef([lat, lon, alt], isdeg=True)\n",
        "    R = np.array([[0, -r[2], r[1]], [r[2], 0, -r[0]], [-r[1], r[0], 0]])\n",
        "    xp = (1+d)*x + R@x + c\n",
        "    print(f\"x'-x = {xp-x}\")\n",
        "    lat, lon, alt = ecef2pos(xp)\n",
        "    return np.rad2deg(lat), np.rad2deg(lon), alt"
      ]
    },
    {
      "cell_type": "markdown",
      "id": "00OeyKV_govX",
      "metadata": {
        "id": "00OeyKV_govX"
      },
      "source": [
        "リスト1（b）"
      ]
    },
    {
      "cell_type": "code",
      "execution_count": null,
      "id": "29f644de",
      "metadata": {
        "id": "29f644de",
        "outputId": "43cafa85-e7b4-4424-97d4-3b392d3e86c6"
      },
      "outputs": [
        {
          "name": "stdout",
          "output_type": "stream",
          "text": [
            "x'-x = [ 0.385484   -0.44187066 -0.19346528]\n",
            "lat=52.37589676598711, lon=9.73199264821396, alt=100.03311329521239\n"
          ]
        }
      ],
      "source": [
        "# ITRF94 to ETRF2020\n",
        "# http://etrs89.ensg.ign.fr/pub/EUREF-TN-1-Mar-04-2024.pdf\n",
        "# T1[mm], T2[mm], T3[mm], D[ppb], R1[mas], R2[mas], R3[mas]\n",
        "ph = np.array([-6.5, 3.0, 77.9, -3.98, 2.236, 13.494, -19.938])\n",
        "dph = np.array([-0.1, 0.6, 3.1, -0.12, 0.086, 0.519, -0.773])  # rate [?/yr]\n",
        "\n",
        "lat1, lon1, alt1 = 52.3759, 9.7320, 100  # ハノーファー\n",
        "t1 = 2016\n",
        "lat2, lon2, alt2 = conv_cord(ph, lat1, lon1, alt1, t=t1, dph=dph)\n",
        "print(f\"lat={lat2}, lon={lon2}, alt={alt2}\")"
      ]
    },
    {
      "cell_type": "markdown",
      "id": "sWxCVsGlgySN",
      "metadata": {
        "id": "sWxCVsGlgySN"
      },
      "source": [
        "## 6-3 高精度測位向け…地殻変動誤差の補正\n",
        "\n",
        "リスト2（a）"
      ]
    },
    {
      "cell_type": "code",
      "execution_count": null,
      "id": "d438f935",
      "metadata": {
        "id": "d438f935"
      },
      "outputs": [],
      "source": [
        "import pyproj\n",
        "from pyproj.transformer import TransformerGroup\n",
        "\n",
        "pyproj.datadir.set_data_dir('D:\\\\tools\\\\OSGeo4W\\\\share\\\\proj')"
      ]
    },
    {
      "cell_type": "markdown",
      "id": "mSZHs-sig-5X",
      "metadata": {
        "id": "mSZHs-sig-5X"
      },
      "source": [
        "リスト2（b）"
      ]
    },
    {
      "cell_type": "code",
      "execution_count": null,
      "id": "f5ffc7ad",
      "metadata": {
        "id": "f5ffc7ad",
        "outputId": "d3f46b6f-a2c2-423c-d58e-353147a66b9a"
      },
      "outputs": [
        {
          "name": "stdout",
          "output_type": "stream",
          "text": [
            "旧日本測地系 緯度: 38.268200 経度: 140.869400\n",
            "JGD2011 緯度: 38.271170 経度: 140.865969\n"
          ]
        }
      ],
      "source": [
        "lat0, lon0, alt0 = 38.2682, 140.8694, 89.3  # 仙台市役所（旧日本測地系）\n",
        "\n",
        "transformer = pyproj.Transformer.from_crs(\"EPSG:4301\", \"EPSG:6668\")\n",
        "lat0d, lon0d = transformer.transform(lat0, lon0)\n",
        "print(f\"旧日本測地系 緯度: {lat0:.6f} 経度: {lon0:.6f}\")\n",
        "print(f\"JGD2011 緯度: {lat0d:.6f} 経度: {lon0d:.6f}\")"
      ]
    },
    {
      "cell_type": "markdown",
      "id": "yBfS3S8zhIaA",
      "metadata": {
        "id": "yBfS3S8zhIaA"
      },
      "source": [
        "\n",
        "リスト3（a）"
      ]
    },
    {
      "cell_type": "code",
      "execution_count": null,
      "id": "9a3c0d51",
      "metadata": {
        "id": "9a3c0d51",
        "outputId": "16802063-b919-447f-8e6b-55b987731d27"
      },
      "outputs": [
        {
          "name": "stdout",
          "output_type": "stream",
          "text": [
            "楕円体高: 89.30[m] 標高 47.50[m]\n"
          ]
        }
      ],
      "source": [
        "# JGD2011 (楕円体高) -> JGD2011 (標高)\n",
        "trans = pyproj.Transformer.from_crs(\"EPSG:6667\", \"EPSG:6695\")\n",
        "_, _, alt2 = trans.transform(lat0d, lon0d, alt0)\n",
        "print(f\"楕円体高: {alt0:.2f}[m] 標高 {alt2:.2f}[m]\")"
      ]
    },
    {
      "cell_type": "markdown",
      "id": "IRf84bSfhS2v",
      "metadata": {
        "id": "IRf84bSfhS2v"
      },
      "source": [
        "リスト4（a）"
      ]
    },
    {
      "cell_type": "code",
      "execution_count": null,
      "id": "5f49bf43",
      "metadata": {
        "id": "5f49bf43",
        "outputId": "c8a5a7fe-2518-4b78-c036-d8f2ae59c5ea"
      },
      "outputs": [
        {
          "data": {
            "text/plain": [
              "[<Transformation Transformer: pipeline>\n",
              " Description: Tokyo to JGD2011 (2)\n",
              " Area of Use:\n",
              " - name: Japan - onshore, excluding northern prefectures of 'main province' (see remarks).\n",
              " - bounds: (122.83, 20.37, 154.05, 45.54),\n",
              " <Concatenated Operation Transformer: pipeline>\n",
              " Description: Tokyo to JGD2011 (1)\n",
              " Area of Use:\n",
              " - name: Japan - northern Honshu prefectures affected by 2011 Tohoku earthquake: Aomori, Iwate, Miyagi, Akita, Yamaguta, Fukushima, Ibaraki, Tochigi, Gumma, Saitama, Chiba, Tokyo, Kanagawa, Niigata, Toyama, Ishikawa, Fukui, Yamanashi, Nagano, Gifu.\n",
              " - bounds: (135.42, 34.84, 142.14, 41.58),\n",
              " <Transformation Transformer: noop>\n",
              " Description: Ballpark geographic offset from Tokyo to JGD2011\n",
              " Area of Use:\n",
              " - name: World\n",
              " - bounds: (-180.0, -90.0, 180.0, 90.0)]"
            ]
          },
          "execution_count": 6,
          "metadata": {},
          "output_type": "execute_result"
        }
      ],
      "source": [
        "trans_group = TransformerGroup(\"EPSG:4301\", \"EPSG:6668\")\n",
        "trans_group.transformers"
      ]
    },
    {
      "cell_type": "markdown",
      "id": "Knu1TrMRhY83",
      "metadata": {
        "id": "Knu1TrMRhY83"
      },
      "source": [
        "リスト5（a）"
      ]
    },
    {
      "cell_type": "code",
      "execution_count": null,
      "id": "588fd971",
      "metadata": {
        "id": "588fd971",
        "outputId": "a4ed7cb0-657e-46d5-cb9d-ae2ab3a141a0"
      },
      "outputs": [
        {
          "name": "stdout",
          "output_type": "stream",
          "text": [
            "旧日本測地系 緯度: 38.268200 経度: 140.869400\n",
            "JGD2011(地殻変動なし) 緯度: 38.271170 経度: 140.865969\n",
            "JGD2011(地殻変動あり) 緯度: 38.271162 経度: 140.866006\n"
          ]
        }
      ],
      "source": [
        "lat0a, lon0a = trans_group.transformers[0].transform(lat0, lon0)\n",
        "lat0b, lon0b = trans_group.transformers[1].transform(lat0, lon0)\n",
        "\n",
        "print(f\"旧日本測地系 緯度: {lat0:.6f} 経度: {lon0:.6f}\")\n",
        "print(f\"JGD2011(地殻変動なし) 緯度: {lat0a:.6f} 経度: {lon0a:.6f}\")\n",
        "print(f\"JGD2011(地殻変動あり) 緯度: {lat0b:.6f} 経度: {lon0b:.6f}\")"
      ]
    },
    {
      "cell_type": "markdown",
      "id": "AEecSP4chj-g",
      "metadata": {
        "id": "AEecSP4chj-g"
      },
      "source": [
        "リスト6（a）"
      ]
    },
    {
      "cell_type": "code",
      "execution_count": null,
      "id": "b0a464d9",
      "metadata": {
        "id": "b0a464d9",
        "outputId": "732914d0-51ce-4366-f145-e64b52a4176a"
      },
      "outputs": [
        {
          "name": "stdout",
          "output_type": "stream",
          "text": [
            "方位 = 77.24 [deg] 距離 = 251.24 [m]\n"
          ]
        }
      ],
      "source": [
        "lat1, lon1, alt1 = 38.2687, 140.8722, 89.3  # 宮城県庁\n",
        "\n",
        "grs80 = pyproj.Geod(ellps='GRS80')  # GRS80楕円体\n",
        "az, bkw_az, dist = grs80.inv(lon0, lat0, lon1, lat1)\n",
        "print(f\"方位 = {az:.2f} [deg] 距離 = {dist:.2f} [m]\")"
      ]
    },
    {
      "cell_type": "markdown",
      "id": "6fQpyAwXht-o",
      "metadata": {
        "id": "6fQpyAwXht-o"
      },
      "source": [
        "## 6-4　最小二乗法によりヘルマート変換のパラメータ推定を行う\n",
        "\n",
        "リスト7（a）"
      ]
    },
    {
      "cell_type": "code",
      "execution_count": null,
      "id": "eb615454",
      "metadata": {
        "id": "eb615454",
        "outputId": "374cce0a-a2ab-47e7-ac00-1690c6bdcb82"
      },
      "outputs": [
        {
          "data": {
            "text/plain": [
              "array([ 1.62434536, -0.61175641, -0.52817175, -1.07296862,  0.86540763,\n",
              "       -2.3015387 ,  1.74481176])"
            ]
          },
          "execution_count": 9,
          "metadata": {},
          "output_type": "execute_result"
        }
      ],
      "source": [
        "np.random.seed(1)\n",
        "pr = np.random.normal(size=7)\n",
        "pr"
      ]
    },
    {
      "cell_type": "markdown",
      "id": "W_CfLMKIhzEo",
      "metadata": {
        "id": "W_CfLMKIhzEo"
      },
      "source": [
        "リスト8（a）"
      ]
    },
    {
      "cell_type": "code",
      "execution_count": null,
      "id": "7a4ea819",
      "metadata": {
        "id": "7a4ea819"
      },
      "outputs": [],
      "source": [
        "from cssrlib.gnss import rCST\n",
        "\n",
        "lat0, lon0, alt0 = 38.2682, 140.8694, 89.3  # 仙台市役所\n",
        "\n",
        "dlat = np.rad2deg(300/rCST.RE_WGS84)\n",
        "dlon = dlat/np.cos(np.deg2rad(lat1))\n",
        "dlat_t = [dlat, 0, dlat]\n",
        "dlon_t = [0, dlon, dlon]\n",
        "\n",
        "n = 3\n",
        "pos_r = np.zeros((n, 3))\n",
        "\n",
        "for k in range(n):\n",
        "    pos_r[k, :] = [lat0+dlat_t[k], lon0+dlon_t[k], alt0]"
      ]
    },
    {
      "cell_type": "markdown",
      "id": "DrxtWYeLh87x",
      "metadata": {
        "id": "DrxtWYeLh87x"
      },
      "source": [
        "リスト9（a）"
      ]
    },
    {
      "cell_type": "code",
      "execution_count": null,
      "id": "7cef9453",
      "metadata": {
        "id": "7cef9453",
        "outputId": "f16adde1-38e0-4e6b-f215-2021785f801c"
      },
      "outputs": [
        {
          "data": {
            "text/html": [
              "<div style=\"width:100%;\"><div style=\"position:relative;width:100%;height:0;padding-bottom:60%;\"><span style=\"color:#565656\">Make this Notebook Trusted to load map: File -> Trust Notebook</span><iframe srcdoc=\"&lt;!DOCTYPE html&gt;\n",
              "&lt;html&gt;\n",
              "&lt;head&gt;\n",
              "    \n",
              "    &lt;meta http-equiv=&quot;content-type&quot; content=&quot;text/html; charset=UTF-8&quot; /&gt;\n",
              "    \n",
              "        &lt;script&gt;\n",
              "            L_NO_TOUCH = false;\n",
              "            L_DISABLE_3D = false;\n",
              "        &lt;/script&gt;\n",
              "    \n",
              "    &lt;style&gt;html, body {width: 100%;height: 100%;margin: 0;padding: 0;}&lt;/style&gt;\n",
              "    &lt;style&gt;#map {position:absolute;top:0;bottom:0;right:0;left:0;}&lt;/style&gt;\n",
              "    &lt;script src=&quot;https://cdn.jsdelivr.net/npm/leaflet@1.9.3/dist/leaflet.js&quot;&gt;&lt;/script&gt;\n",
              "    &lt;script src=&quot;https://code.jquery.com/jquery-3.7.1.min.js&quot;&gt;&lt;/script&gt;\n",
              "    &lt;script src=&quot;https://cdn.jsdelivr.net/npm/bootstrap@5.2.2/dist/js/bootstrap.bundle.min.js&quot;&gt;&lt;/script&gt;\n",
              "    &lt;script src=&quot;https://cdnjs.cloudflare.com/ajax/libs/Leaflet.awesome-markers/2.0.2/leaflet.awesome-markers.js&quot;&gt;&lt;/script&gt;\n",
              "    &lt;link rel=&quot;stylesheet&quot; href=&quot;https://cdn.jsdelivr.net/npm/leaflet@1.9.3/dist/leaflet.css&quot;/&gt;\n",
              "    &lt;link rel=&quot;stylesheet&quot; href=&quot;https://cdn.jsdelivr.net/npm/bootstrap@5.2.2/dist/css/bootstrap.min.css&quot;/&gt;\n",
              "    &lt;link rel=&quot;stylesheet&quot; href=&quot;https://netdna.bootstrapcdn.com/bootstrap/3.0.0/css/bootstrap-glyphicons.css&quot;/&gt;\n",
              "    &lt;link rel=&quot;stylesheet&quot; href=&quot;https://cdn.jsdelivr.net/npm/@fortawesome/fontawesome-free@6.2.0/css/all.min.css&quot;/&gt;\n",
              "    &lt;link rel=&quot;stylesheet&quot; href=&quot;https://cdnjs.cloudflare.com/ajax/libs/Leaflet.awesome-markers/2.0.2/leaflet.awesome-markers.css&quot;/&gt;\n",
              "    &lt;link rel=&quot;stylesheet&quot; href=&quot;https://cdn.jsdelivr.net/gh/python-visualization/folium/folium/templates/leaflet.awesome.rotate.min.css&quot;/&gt;\n",
              "    \n",
              "            &lt;meta name=&quot;viewport&quot; content=&quot;width=device-width,\n",
              "                initial-scale=1.0, maximum-scale=1.0, user-scalable=no&quot; /&gt;\n",
              "            &lt;style&gt;\n",
              "                #map_38296bc4a6eb91bae026adf7492dfef8 {\n",
              "                    position: relative;\n",
              "                    width: 100.0%;\n",
              "                    height: 100.0%;\n",
              "                    left: 0.0%;\n",
              "                    top: 0.0%;\n",
              "                }\n",
              "                .leaflet-container { font-size: 1rem; }\n",
              "            &lt;/style&gt;\n",
              "        \n",
              "&lt;/head&gt;\n",
              "&lt;body&gt;\n",
              "    \n",
              "    \n",
              "            &lt;div class=&quot;folium-map&quot; id=&quot;map_38296bc4a6eb91bae026adf7492dfef8&quot; &gt;&lt;/div&gt;\n",
              "        \n",
              "&lt;/body&gt;\n",
              "&lt;script&gt;\n",
              "    \n",
              "    \n",
              "            var map_38296bc4a6eb91bae026adf7492dfef8 = L.map(\n",
              "                &quot;map_38296bc4a6eb91bae026adf7492dfef8&quot;,\n",
              "                {\n",
              "                    center: [38.2682, 140.8694],\n",
              "                    crs: L.CRS.EPSG3857,\n",
              "                    zoom: 15,\n",
              "                    zoomControl: true,\n",
              "                    preferCanvas: false,\n",
              "                }\n",
              "            );\n",
              "\n",
              "            \n",
              "\n",
              "        \n",
              "    \n",
              "            var tile_layer_084bfcac51a26583b3d5ed0705acea7b = L.tileLayer(\n",
              "                &quot;https://tile.openstreetmap.org/{z}/{x}/{y}.png&quot;,\n",
              "                {&quot;attribution&quot;: &quot;\\u0026copy; \\u003ca href=\\&quot;https://www.openstreetmap.org/copyright\\&quot;\\u003eOpenStreetMap\\u003c/a\\u003e contributors&quot;, &quot;detectRetina&quot;: false, &quot;maxNativeZoom&quot;: 19, &quot;maxZoom&quot;: 19, &quot;minZoom&quot;: 0, &quot;noWrap&quot;: false, &quot;opacity&quot;: 1, &quot;subdomains&quot;: &quot;abc&quot;, &quot;tms&quot;: false}\n",
              "            );\n",
              "        \n",
              "    \n",
              "            tile_layer_084bfcac51a26583b3d5ed0705acea7b.addTo(map_38296bc4a6eb91bae026adf7492dfef8);\n",
              "        \n",
              "    \n",
              "            var marker_a338871715fd4357ff3f9ebccb08f0ce = L.marker(\n",
              "                [38.2682, 140.8694],\n",
              "                {}\n",
              "            ).addTo(map_38296bc4a6eb91bae026adf7492dfef8);\n",
              "        \n",
              "    \n",
              "            var icon_56e9064134d061f7d9e71543fbebdc1a = L.AwesomeMarkers.icon(\n",
              "                {&quot;extraClasses&quot;: &quot;fa-rotate-0&quot;, &quot;icon&quot;: &quot;home&quot;, &quot;iconColor&quot;: &quot;white&quot;, &quot;markerColor&quot;: &quot;red&quot;, &quot;prefix&quot;: &quot;glyphicon&quot;}\n",
              "            );\n",
              "            marker_a338871715fd4357ff3f9ebccb08f0ce.setIcon(icon_56e9064134d061f7d9e71543fbebdc1a);\n",
              "        \n",
              "    \n",
              "            var marker_816a9c3b7ffc9fc37b9528a99fec0405 = L.marker(\n",
              "                [38.27089494585236, 140.8694],\n",
              "                {}\n",
              "            ).addTo(map_38296bc4a6eb91bae026adf7492dfef8);\n",
              "        \n",
              "    \n",
              "            var marker_5773d7f82c947eb9968be1ba5e78472f = L.marker(\n",
              "                [38.2682, 140.87283254992127],\n",
              "                {}\n",
              "            ).addTo(map_38296bc4a6eb91bae026adf7492dfef8);\n",
              "        \n",
              "    \n",
              "            var marker_a03df7c5ed266d15b0bd56207b8b1a60 = L.marker(\n",
              "                [38.27089494585236, 140.87283254992127],\n",
              "                {}\n",
              "            ).addTo(map_38296bc4a6eb91bae026adf7492dfef8);\n",
              "        \n",
              "&lt;/script&gt;\n",
              "&lt;/html&gt;\" style=\"position:absolute;width:100%;height:100%;left:0;top:0;border:none !important;\" allowfullscreen webkitallowfullscreen mozallowfullscreen></iframe></div></div>"
            ],
            "text/plain": [
              "<folium.folium.Map at 0x143bfefb110>"
            ]
          },
          "execution_count": 11,
          "metadata": {},
          "output_type": "execute_result"
        }
      ],
      "source": [
        "import folium\n",
        "\n",
        "m = folium.Map(location=[lat0, lon0], zoom_start=15)\n",
        "folium.Marker(location=[lat0, lon0], icon=folium.Icon(color='red', icon='home')).add_to(m)\n",
        "for k in range(n):\n",
        "    folium.Marker(location=[pos_r[k,0], pos_r[k,1]]).add_to(m)\n",
        "m"
      ]
    },
    {
      "cell_type": "markdown",
      "id": "eDHvUN61iDf4",
      "metadata": {
        "id": "eDHvUN61iDf4"
      },
      "source": [
        "リスト10（a）"
      ]
    },
    {
      "cell_type": "code",
      "execution_count": null,
      "id": "54855c03",
      "metadata": {
        "id": "54855c03",
        "outputId": "0659338d-3643-4d72-865c-5a956568acd2"
      },
      "outputs": [
        {
          "name": "stdout",
          "output_type": "stream",
          "text": [
            "x'-x = [-0.06481125 -0.05339247 -0.03486617]\n",
            "x'-x = [-0.06480728 -0.05339418 -0.03487013]\n",
            "x'-x = [-0.06480907 -0.05339382 -0.03486927]\n"
          ]
        }
      ],
      "source": [
        "pos = np.zeros((n, 3))\n",
        "r = np.zeros((n, 3))\n",
        "rp = np.zeros((n, 3))\n",
        "for k in range(n):\n",
        "    pos[k, :] = conv_cord(pr, pos_r[k, 0], pos_r[k, 1], pos_r[k, 2])\n",
        "    r[k, :] = pos2ecef(pos_r[k, :], isdeg=True)\n",
        "    rp[k, :] = pos2ecef(pos[k, :], isdeg=True)"
      ]
    },
    {
      "cell_type": "markdown",
      "id": "GJD1K0E7iJnw",
      "metadata": {
        "id": "GJD1K0E7iJnw"
      },
      "source": [
        "リスト11（a）"
      ]
    },
    {
      "cell_type": "code",
      "execution_count": null,
      "id": "15b4cc9d",
      "metadata": {
        "id": "15b4cc9d",
        "outputId": "eb1ec666-de6f-4b16-ba76-b20594fb57e5"
      },
      "outputs": [
        {
          "data": {
            "text/plain": [
              "array([[ 1.62628517],\n",
              "       [-0.60860503],\n",
              "       [-0.53824258],\n",
              "       [-1.07205096],\n",
              "       [ 0.8659201 ],\n",
              "       [-2.30161331],\n",
              "       [ 1.74461438]])"
            ]
          },
          "execution_count": 13,
          "metadata": {},
          "output_type": "execute_result"
        }
      ],
      "source": [
        "def skew(r):\n",
        "    return np.array([[0, r[2], -r[1]], [-r[2], 0, r[0]], [r[1], -r[0], 0]])\n",
        "\n",
        "M = np.zeros((3*n, 7))\n",
        "r0 = 0\n",
        "for k in range(n):\n",
        "    M[0+r0:3+r0, 0:3] = np.eye(3)*1e-3\n",
        "    M[0+r0:3+r0, 3] = r[k, :]*1e-9\n",
        "    M[0+r0:3+r0, 4:7] = skew(np.deg2rad(r[k, :]*1e-3/3600))\n",
        "    r0 += 3\n",
        "\n",
        "b = np.reshape(rp-r, [9, 1])\n",
        "p = np.linalg.inv(M.T@M)@M.T@b\n",
        "p"
      ]
    },
    {
      "cell_type": "markdown",
      "id": "zKoCqPWViSkQ",
      "metadata": {
        "id": "zKoCqPWViSkQ"
      },
      "source": [
        "## 6-5　3次元位置と時刻を求める衛星測位\n",
        "\n",
        "リスト12（a）"
      ]
    },
    {
      "cell_type": "code",
      "execution_count": null,
      "id": "40f35542",
      "metadata": {
        "id": "40f35542"
      },
      "outputs": [],
      "source": [
        "import numpy as np\n",
        "from cssrlib.gnss import pos2ecef, xyz2enu, rCST\n",
        "\n",
        "lat0, lon0, alt0 = 38.2682, 140.8694, 89.3  # 仙台市役所（旧日本測地系）\n",
        "\n",
        "pos0 = np.array([np.deg2rad(lat0), np.deg2rad(lon0), alt0])\n",
        "r0 = pos2ecef(pos0)\n",
        "\n",
        "nsat = 5\n",
        "az_t = np.deg2rad([45, 135, 225, 315, 180])\n",
        "el_t = np.deg2rad([45, 45, 45, 45, 90])\n",
        "rng_t = 20000e3*np.ones(nsat)\n",
        "\n",
        "E = xyz2enu(pos0)\n",
        "xs = np.zeros((nsat, 3))\n",
        "for k in range(nsat):\n",
        "    s_az, c_az = np.sin(az_t[k]), np.cos(az_t[k])\n",
        "    s_el, c_el = np.sin(el_t[k]), np.cos(el_t[k])\n",
        "    rs = rng_t[k]*np.array([s_az*c_el, c_az*c_el, s_el])\n",
        "    xs[k, :] = E.T@rs + r0"
      ]
    },
    {
      "cell_type": "markdown",
      "id": "y-0Blrgkihls",
      "metadata": {
        "id": "y-0Blrgkihls"
      },
      "source": [
        "リスト12（b）"
      ]
    },
    {
      "cell_type": "code",
      "execution_count": null,
      "id": "9b6c4046",
      "metadata": {
        "id": "9b6c4046"
      },
      "outputs": [],
      "source": [
        "np.random.seed(1)\n",
        "\n",
        "tcb = np.random.normal(0, 0.1e-3*rCST.CLIGHT)\n",
        "rm = rng_t + np.random.normal(0.0, 1.0, nsat) + tcb"
      ]
    },
    {
      "cell_type": "markdown",
      "id": "THPi-DPvinGi",
      "metadata": {
        "id": "THPi-DPvinGi"
      },
      "source": [
        "リスト12（c）"
      ]
    },
    {
      "cell_type": "code",
      "execution_count": null,
      "id": "886b66f8",
      "metadata": {
        "id": "886b66f8",
        "outputId": "3b9d4673-1876-48df-8d99-3838c2a906b2"
      },
      "outputs": [
        {
          "name": "stdout",
          "output_type": "stream",
          "text": [
            "iter=1 x=[-4180589.74731046  3401181.26747221  3410438.3804023    643416.43880721] |dx|=6175768.386201451\n",
            "iter=2 x=[-3874618.25284895  3152253.75185015  3941111.31682473    50818.2113988 ] |dx|=887901.9585717699\n",
            "iter=3 x=[-3889538.45846488  3164392.28299686  3928878.72264603    48705.20507356] |dx|=22892.305041050484\n",
            "iter=4 x=[-3889502.30984406  3164362.87451879  3928918.84649905    48701.05519091] |dx|=61.633809526645514\n",
            "iter=5 x=[-3889502.39790784  3164362.94616054  3928918.74885074    48701.05517142] |dx|=0.14974298726284502\n",
            "iter=6 x=[-3889502.39769341  3164362.9459861   3928918.74908853    48701.05517143] |dx|=0.0003646285868578597\n",
            "position error (ENU) = [ 0.46618346 -0.92739469  6.70778863]\n",
            " tcb[estim] = 48701.055 tcb = 48696.649\n"
          ]
        }
      ],
      "source": [
        "x = np.zeros(4)\n",
        "x[0:3] = pos2ecef(np.array([90.0, 0, 0]), isdeg=True)\n",
        "b = np.zeros(nsat)\n",
        "H = np.zeros((nsat, 4))\n",
        "\n",
        "for iter in range(10):\n",
        "    for k in range(nsat):\n",
        "        r_ = np.linalg.norm(x[0:3]-xs[k, :]) + x[3]\n",
        "        H[k, 0:3] = (x[0:3]-xs[k, :])/r_\n",
        "        H[k, 3] = 1\n",
        "        b[k] = rm[k] - r_\n",
        "\n",
        "    Q = np.linalg.inv(H.T@H)\n",
        "    dx = Q@H.T@b\n",
        "    # dx, res, _, _ = np.linalg.lstsq(H, b, None)\n",
        "    x = x + dx\n",
        "    m_dx = np.linalg.norm(dx)\n",
        "    print(f\"iter={iter+1} x={x} |dx|={m_dx}\")\n",
        "    if m_dx < 1e-3:\n",
        "        break\n",
        "\n",
        "p_err = E@(x[0:3]-r0)\n",
        "print(f\"position error (ENU) = {p_err}\\n tcb[estim] = {x[3]:.3f} tcb = {tcb:.3f}\")"
      ]
    },
    {
      "cell_type": "markdown",
      "id": "4DCwrcdlivcQ",
      "metadata": {
        "id": "4DCwrcdlivcQ"
      },
      "source": [
        "リスト13（a）"
      ]
    },
    {
      "cell_type": "code",
      "execution_count": null,
      "id": "6a1edc6e",
      "metadata": {
        "id": "6a1edc6e",
        "outputId": "d4bee984-8cd9-4d12-ea84-fce9a06bfc5b"
      },
      "outputs": [
        {
          "name": "stdout",
          "output_type": "stream",
          "text": [
            "PDOP = 4.08  HDOP = 1.42  VDOP = 3.83 T DOP = 2.96\n"
          ]
        }
      ],
      "source": [
        "dops = np.diag(E@Q[0:3,0:3]@E.T)\n",
        "pdop = np.sqrt(np.sum(np.diag(Q[0:3,0:3])))\n",
        "tdop = np.sqrt(Q[3,3])\n",
        "hdop = np.sqrt(dops[0]+dops[1])\n",
        "vdop = np.sqrt(dops[2])\n",
        "print(f\"PDOP = {pdop:.2f}  HDOP = {hdop:.2f}  VDOP = {vdop:.2f} T DOP = {tdop:.2f}\")"
      ]
    }
  ],
  "metadata": {
    "colab": {
      "provenance": []
    },
    "kernelspec": {
      "display_name": "Python 3 (ipykernel)",
      "language": "python",
      "name": "python3"
    },
    "language_info": {
      "codemirror_mode": {
        "name": "ipython",
        "version": 3
      },
      "file_extension": ".py",
      "mimetype": "text/x-python",
      "name": "python",
      "nbconvert_exporter": "python",
      "pygments_lexer": "ipython3",
      "version": "3.11.9"
    }
  },
  "nbformat": 4,
  "nbformat_minor": 5
}
